{
 "cells": [
  {
   "cell_type": "code",
   "execution_count": 10,
   "metadata": {},
   "outputs": [],
   "source": [
    "import random"
   ]
  },
  {
   "cell_type": "code",
   "execution_count": 11,
   "metadata": {},
   "outputs": [
    {
     "name": "stdout",
     "output_type": "stream",
     "text": [
      "66\n"
     ]
    },
    {
     "data": {
      "text/plain": [
       "[[4, 90],\n",
       " [4, 91],\n",
       " [4, 92],\n",
       " [4, 93],\n",
       " [4, 94],\n",
       " [4, 95],\n",
       " [4, 96],\n",
       " [4, 97],\n",
       " [4, 98],\n",
       " [4, 99],\n",
       " [4, 100],\n",
       " [5, 90],\n",
       " [5, 91],\n",
       " [5, 92],\n",
       " [5, 93],\n",
       " [5, 94],\n",
       " [5, 95],\n",
       " [5, 96],\n",
       " [5, 97],\n",
       " [5, 98],\n",
       " [5, 99],\n",
       " [5, 100],\n",
       " [6, 90],\n",
       " [6, 91],\n",
       " [6, 92],\n",
       " [6, 93],\n",
       " [6, 94],\n",
       " [6, 95],\n",
       " [6, 96],\n",
       " [6, 97],\n",
       " [6, 98],\n",
       " [6, 99],\n",
       " [6, 100],\n",
       " [7, 90],\n",
       " [7, 91],\n",
       " [7, 92],\n",
       " [7, 93],\n",
       " [7, 94],\n",
       " [7, 95],\n",
       " [7, 96],\n",
       " [7, 97],\n",
       " [7, 98],\n",
       " [7, 99],\n",
       " [7, 100],\n",
       " [8, 90],\n",
       " [8, 91],\n",
       " [8, 92],\n",
       " [8, 93],\n",
       " [8, 94],\n",
       " [8, 95],\n",
       " [8, 96],\n",
       " [8, 97],\n",
       " [8, 98],\n",
       " [8, 99],\n",
       " [8, 100],\n",
       " [9, 90],\n",
       " [9, 91],\n",
       " [9, 92],\n",
       " [9, 93],\n",
       " [9, 94],\n",
       " [9, 95],\n",
       " [9, 96],\n",
       " [9, 97],\n",
       " [9, 98],\n",
       " [9, 99],\n",
       " [9, 100]]"
      ]
     },
     "execution_count": 11,
     "metadata": {},
     "output_type": "execute_result"
    }
   ],
   "source": [
    "#建立二维列表\n",
    "xylis = []\n",
    "index = 0\n",
    "for i in range(4,10):\n",
    "    for j in range(90,101):\n",
    "        xylis.append([])\n",
    "        xylis[index].append(i)\n",
    "        xylis[index].append(j)\n",
    "        index += 1\n",
    "print(len(xylis))\n",
    "xylis"
   ]
  },
  {
   "cell_type": "code",
   "execution_count": 12,
   "metadata": {},
   "outputs": [],
   "source": [
    "#定义上界和下界\n",
    "x_f = 4\n",
    "x_s = 9\n",
    "y_f = 90\n",
    "y_s = 100"
   ]
  },
  {
   "cell_type": "code",
   "execution_count": 13,
   "metadata": {},
   "outputs": [
    {
     "data": {
      "text/plain": [
       "[7, 92]"
      ]
     },
     "execution_count": 13,
     "metadata": {},
     "output_type": "execute_result"
    }
   ],
   "source": [
    "#获取第一个随机坐标\n",
    "rIndex = random.randint(0,65)\n",
    "randxy = xylis[rIndex]\n",
    "randxy"
   ]
  },
  {
   "cell_type": "code",
   "execution_count": 14,
   "metadata": {},
   "outputs": [],
   "source": [
    "def candidateSet(xy_lis):\n",
    "    candidate_lis = []\n",
    "    # x减一匹配\n",
    "    flag_y = -1\n",
    "    for i in range(0,3):\n",
    "        candidate_lis.append([xy_lis[0] - 1,xy_lis[1] + flag_y])\n",
    "        flag_y += 1\n",
    "    #x不变匹配\n",
    "    flag_y = -1\n",
    "    for i in range(3,5):\n",
    "        candidate_lis.append([xy_lis[0],xy_lis[1] + flag_y])\n",
    "        flag_y += 2\n",
    "    #x加一匹配\n",
    "    flag_y = -1\n",
    "    for i in range(5,8):\n",
    "        candidate_lis.append([xy_lis[0] + 1,xy_lis[1] + flag_y])\n",
    "        flag_y += 1\n",
    "    return candidate_lis\n",
    "\n",
    "def Fintess(lis_xy):\n",
    "    if lis_xy[0] + lis_xy[1] == 105:\n",
    "        return -100\n",
    "    else:\n",
    "        return 0"
   ]
  },
  {
   "cell_type": "code",
   "execution_count": 15,
   "metadata": {},
   "outputs": [
    {
     "name": "stdout",
     "output_type": "stream",
     "text": [
      "最小值是0,下标是0\n",
      "[[6, 91], [6, 92], [6, 93], [7, 91], [7, 93], [8, 91], [8, 92], [8, 93]]\n"
     ]
    }
   ],
   "source": [
    "candidate_lis = candidateSet(randxy) \n",
    "source_acc = []\n",
    "for i in range(len(candidate_lis)):\n",
    "    source_acc.append(Fintess(candidate_lis[i]))\n",
    "\n",
    "print( \"最小值是%d,下标是%d\" % (min(source_acc),source_acc.index(min(source_acc))) )\n",
    "print(candidate_lis)\n",
    "    "
   ]
  },
  {
   "cell_type": "code",
   "execution_count": null,
   "metadata": {},
   "outputs": [],
   "source": []
  }
 ],
 "metadata": {
  "kernelspec": {
   "display_name": "Python 3.8.1 64-bit",
   "language": "python",
   "name": "python3"
  },
  "language_info": {
   "codemirror_mode": {
    "name": "ipython",
    "version": 3
   },
   "file_extension": ".py",
   "mimetype": "text/x-python",
   "name": "python",
   "nbconvert_exporter": "python",
   "pygments_lexer": "ipython3",
   "version": "3.8.1"
  },
  "orig_nbformat": 4,
  "vscode": {
   "interpreter": {
    "hash": "33d73dfb9d58d1e4c0ed15f266f7c1fd1b5e79268076ebae9c660cb33abbd60e"
   }
  }
 },
 "nbformat": 4,
 "nbformat_minor": 2
}
