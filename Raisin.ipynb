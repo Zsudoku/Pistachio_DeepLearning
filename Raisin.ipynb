{
 "cells": [
  {
   "cell_type": "code",
   "execution_count": null,
   "metadata": {},
   "outputs": [],
   "source": [
    "import pandas as pd\n",
    "import numpy as np\n",
    "# from random import shuffle\n",
    "from DiyLSTMmod import *\n",
    "from sklearn.model_selection import train_test_split\n",
    "from optimizationAlgorithm import *\n",
    "import shutil\n",
    "from sklearn.utils import shuffle\n",
    "tf.random.set_seed(123)\n",
    "shutil.rmtree('models')  \n",
    "os.mkdir('models')"
   ]
  },
  {
   "cell_type": "code",
   "execution_count": null,
   "metadata": {},
   "outputs": [],
   "source": [
    "def FReIndex(colIndex,reIndex):\n",
    "    dirindex = {}\n",
    "    lisindex = []\n",
    "    for i in range(len(colIndex)):\n",
    "        lisindex.append(i)\n",
    "    dirindex = dict(zip(lisindex,colIndex))\n",
    "    colIndex = []\n",
    "    for i in range(len(reIndex)):\n",
    "        for key in dirindex:\n",
    "            if int(key) + 1 == int(reIndex[i]):\n",
    "                colIndex.append(dirindex[key])\n",
    "                break\n",
    "    #print(colIndex)\n",
    "    return colIndex"
   ]
  },
  {
   "cell_type": "code",
   "execution_count": null,
   "metadata": {},
   "outputs": [],
   "source": [
    "def creat_dataset_X_Y(lis,path):\n",
    "    df = pd.read_excel(path)\n",
    "    df = shuffle(df)\n",
    "    df.reset_index(drop = True,inplace = True)\n",
    "    #print(df)\n",
    "    Lisclass = df['Class'].values\n",
    "    LisClassNp = []\n",
    "    for i in range(len(Lisclass)):\n",
    "        if (Lisclass[i] == 'Kecimen'):\n",
    "            LisClassNp.append([0,1])\n",
    "        else:\n",
    "            LisClassNp.append([1,0])\n",
    "    Y = np.array(LisClassNp)\n",
    "    df = df.drop(columns='Class')\n",
    "    colIndex = ['Area', 'MajorAxisLength', 'MinorAxisLength', 'Eccentricity','ConvexArea', 'Extent', 'Perimeter']\n",
    "    colIndex = FReIndex(colIndex,lis)\n",
    "    df = df[colIndex]\n",
    "    X = df.values\n",
    "    from sklearn.preprocessing import MinMaxScaler\n",
    "    scaler = MinMaxScaler(feature_range=(0, 1))\n",
    "    X = scaler.fit_transform(X)\n",
    "    #拆分训练集和测试集\n",
    "    x_train, X_test, y_train, Y_test = train_test_split(X, Y, test_size=0.2, random_state=40)\n",
    "    X_train = X\n",
    "    Y_train = Y\n",
    "    X_train = X_train.reshape(X_train.shape[0],X_train.shape[1],1)\n",
    "    X_test = X_test.reshape(X_test.shape[0],X_test.shape[1],1)\n",
    "\n",
    "    X_train = tf.cast(X_train, dtype='float32')\n",
    "    X_test = tf.cast(X_test, dtype='float32')\n",
    "    Y_train = tf.cast(Y_train, dtype='float32')\n",
    "    Y_test = tf.cast(Y_test, dtype='float32')\n",
    "    return X_train,Y_train,X_test,Y_test\n",
    "    "
   ]
  },
  {
   "cell_type": "code",
   "execution_count": null,
   "metadata": {},
   "outputs": [],
   "source": [
    "def enSimpleCode(lis):\n",
    "    #print('lis',lis)\n",
    "    X_train, Y_train,X_test,Y_test = creat_dataset_X_Y(lis,'./dataset/Raisin_Dataset.xlsx')\n",
    "    checkpoint_path = \"./models_Raisin/{categorical_accuracy:.5f}.ckpt\"\n",
    "    checkpoint_dir = os.path.dirname(checkpoint_path)\n",
    "    train_acc = []\n",
    "    valid_acc = []\n",
    "    for i in range(1):\n",
    "        t,v = k_fold(5, X_train, Y_train,100,128)\n",
    "        train_acc.append(t)\n",
    "        valid_acc.append(v)\n",
    "    #shutil.rmtree('./models')\n",
    "    Note = open('restultOptimization.txt',mode='a+')\n",
    "    Note.write(f'{lis}' + ',' + f'{valid_acc}\\n')\n",
    "    Note.close()\n",
    "    # print('训练集：',train_acc)\n",
    "    # print('验证集:',valid_acc)\n",
    "\n",
    "    # print('训练集平均，验证集平均：',ave_list(train_acc),ave_list(valid_acc))\n",
    "    return valid_acc"
   ]
  },
  {
   "cell_type": "code",
   "execution_count": null,
   "metadata": {},
   "outputs": [],
   "source": [
    "#enSimpleCode([1,2,3,4,5,6,7])"
   ]
  },
  {
   "cell_type": "code",
   "execution_count": null,
   "metadata": {},
   "outputs": [],
   "source": [
    "def enSimpleCodeLis(lis):\n",
    "    net2 =  my_model((sequence_lenth,input_size), name='MyModelMLP2')\n",
    "    net2.compile(loss='categorical_crossentropy',#categorical_crossentropy', binary_crossentropy\n",
    "        optimizer='adam', metrics=['categorical_accuracy'],run_eagerly=True)  \n",
    "    net2.load_weights('./0.86883.ckpt')\n",
    "    X_train, Y_train,X_test,Y_test = creat_dataset_X_Y(lis,'./dataset/Raisin_Dataset.xlsx')\n",
    "    history = net2.evaluate(X_test,Y_test,verbose=0)\n",
    "    Note = open('restultOptimization.txt',mode='a+')\n",
    "    Note.write(f'{lis}' + ',' + f'{history[1]}\\n')\n",
    "    Note.close()\n",
    "    return -history[1]"
   ]
  },
  {
   "cell_type": "code",
   "execution_count": null,
   "metadata": {},
   "outputs": [],
   "source": [
    "Note = open('restultOptimization.txt',mode='w')\n",
    "Note.close()\n",
    "ColIndex = ['Area', 'MajorAxisLength', 'MinorAxisLength', 'Eccentricity','ConvexArea', 'Extent', 'Perimeter']\n",
    "optAlgo = OptimizationAlgorithm(ColIndex)\n",
    "optAlgo.ga(enSimpleCodeLis, len(ColIndex), 500, 20)"
   ]
  },
  {
   "cell_type": "code",
   "execution_count": null,
   "metadata": {},
   "outputs": [],
   "source": [
    "# shutil.rmtree('models')  "
   ]
  },
  {
   "cell_type": "code",
   "execution_count": null,
   "metadata": {},
   "outputs": [],
   "source": [
    "# os.mkdir('models')"
   ]
  },
  {
   "cell_type": "markdown",
   "metadata": {},
   "source": [
    "80---84----82"
   ]
  },
  {
   "cell_type": "code",
   "execution_count": null,
   "metadata": {},
   "outputs": [],
   "source": [
    "# enSimpleCode([3, 6, 7, 4, 2, 5, 1])"
   ]
  },
  {
   "cell_type": "code",
   "execution_count": null,
   "metadata": {},
   "outputs": [],
   "source": [
    "# shutil.rmtree('models')  \n",
    "# os.mkdir('models')\n",
    "# Note = open('restultOptimization.txt',mode='w')\n",
    "# Note.close()\n",
    "# ColIndex = ['Area', 'MajorAxisLength', 'MinorAxisLength', 'Eccentricity','ConvexArea', 'Extent', 'Perimeter']\n",
    "# optAlgo = OptimizationAlgorithm(ColIndex)\n",
    "# optAlgo.ga(enSimpleCode, len(ColIndex), 150, 1)"
   ]
  },
  {
   "cell_type": "markdown",
   "metadata": {},
   "source": [
    "LR分类达到85.22%，MLP分类达到86.33%，SVM分类精度最高，达到86.44%。"
   ]
  }
 ],
 "metadata": {
  "kernelspec": {
   "display_name": "Python 3.8.1 64-bit",
   "language": "python",
   "name": "python3"
  },
  "language_info": {
   "codemirror_mode": {
    "name": "ipython",
    "version": 3
   },
   "file_extension": ".py",
   "mimetype": "text/x-python",
   "name": "python",
   "nbconvert_exporter": "python",
   "pygments_lexer": "ipython3",
   "version": "3.8.1"
  },
  "orig_nbformat": 4,
  "vscode": {
   "interpreter": {
    "hash": "33d73dfb9d58d1e4c0ed15f266f7c1fd1b5e79268076ebae9c660cb33abbd60e"
   }
  }
 },
 "nbformat": 4,
 "nbformat_minor": 2
}
