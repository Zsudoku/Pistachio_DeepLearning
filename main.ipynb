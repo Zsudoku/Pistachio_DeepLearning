{
 "cells": [
  {
   "cell_type": "code",
   "execution_count": null,
   "metadata": {},
   "outputs": [],
   "source": [
    "from fileload import *\n",
    "import numpy as np\n",
    "import pandas as pd\n",
    "import matplotlib.pyplot as plt"
   ]
  },
  {
   "cell_type": "code",
   "execution_count": null,
   "metadata": {},
   "outputs": [],
   "source": [
    "data = pd.read_excel(io = dataset,sheet_name= 'Pistachio_28_Features_Dataset')\n",
    "#查看数据集\n",
    "# print(data)"
   ]
  },
  {
   "cell_type": "code",
   "execution_count": null,
   "metadata": {},
   "outputs": [],
   "source": [
    "# # 查看数据集行列数\n",
    "# print(data.shape)\n",
    "# # 查看数据集各个变量的类型\n",
    "# print(data.dtypes)\n",
    "# # 查看数据的描述性统计\n",
    "# print(data.describe())\n",
    "# # 查看数据是否存在缺失值\n",
    "# print(data.isnull())"
   ]
  },
  {
   "cell_type": "code",
   "execution_count": null,
   "metadata": {},
   "outputs": [],
   "source": [
    "# print(type(data))\n",
    "# # 查看列索引\n",
    "# print(data.columns)\n",
    "# # 查看某一列索引的值\n",
    "# print(data['Area'])"
   ]
  },
  {
   "cell_type": "code",
   "execution_count": null,
   "metadata": {},
   "outputs": [],
   "source": [
    "# 画图\n",
    "# 制作x轴\n",
    "# Pistachio_Length = [for i in range()]\n",
    "# 获取列索引列表\n",
    "Pistachio_columns = data.columns\n",
    "# 遍历列索引的列表，画出每列数据的散点图\n",
    "for i in range(len(Pistachio_columns)):\n",
    "    # print(Pistachio_columns[i])\n",
    "    \n",
    "# print(type(Pistachio_columns))\n",
    "    plt.scatter(x = data.index,\n",
    "                y = data[Pistachio_columns[i]])\n",
    "    plt.title(Pistachio_columns[i])\n",
    "    plt.savefig(\"./Pistachio_Dataset/picture/%d.png\"%(i))\n",
    "    plt.show()"
   ]
  },
  {
   "cell_type": "markdown",
   "metadata": {},
   "source": [
    "从上图可以看出，有些特征的数据分布有明显的差异，下面将计算29个特征之间的皮尔逊相关性系数，来进一步验证"
   ]
  },
  {
   "cell_type": "code",
   "execution_count": null,
   "metadata": {},
   "outputs": [],
   "source": [
    "# 计算皮尔逊系数\n",
    "# a = pd.Series([1,2,3,4,5,6,7,8,9,10])\n",
    "# b = pd.Series([2,4,1,5,1,3,6,2,7,0])\n",
    "# c = pd.Series([0,3,2,1,4,7,1,9,6,2])\n",
    "# x = np.vstack((a,b,c))\n",
    "# print(x.shape)\n",
    "# r = np.corrcoef(x)\n",
    "# print(r)\n"
   ]
  },
  {
   "cell_type": "code",
   "execution_count": null,
   "metadata": {},
   "outputs": [],
   "source": [
    "# 将data的类转换为0 1\n",
    "# 首先取得所有的类型，放入列表中\n",
    "Class_list = []\n",
    "for i in data.index:\n",
    "    if(data['Class'][i] not in Class_list):\n",
    "        Class_list.append(data['Class'][i])\n",
    "print(Class_list)\n",
    "\n"
   ]
  },
  {
   "cell_type": "code",
   "execution_count": null,
   "metadata": {},
   "outputs": [],
   "source": [
    "# # 测试修改data的某个值的代码\n",
    "# print(data['Class'][0])\n",
    "# data.loc[0,'Class'] = 1\n",
    "# print(data.loc[0,'Class'])\n",
    "# print(type(data.loc[0,'Class']))"
   ]
  },
  {
   "cell_type": "code",
   "execution_count": null,
   "metadata": {},
   "outputs": [],
   "source": [
    "# 将类别转化为0 1\n",
    "for i in data.index:\n",
    "    for j in range(len(Class_list)):\n",
    "        if data.loc[i , 'Class'] == Class_list[j]:\n",
    "            data.loc[i , 'Class'] = j\n",
    "# print(data['Class'])"
   ]
  },
  {
   "cell_type": "code",
   "execution_count": null,
   "metadata": {},
   "outputs": [],
   "source": [
    "# 计算皮尔逊系数\n",
    "Series_list = []\n",
    "for i in range(len(Pistachio_columns)):\n",
    "    data = data.astype({'%s'%Pistachio_columns[i] : 'float64'}) #改变数据类型\n",
    "    Series_list.append(data[Pistachio_columns[i]])\n",
    "    Series_list[i] = pd.Series(Series_list[i])\n",
    "# print(i for i in Series_list)\n",
    "\n",
    "x = np.vstack((i for i in Series_list))\n",
    "# print(x.shape)\n",
    "# print(data.info())\n",
    "# data.Class = data.Class.astype('int64')\n",
    "# print(data.info())\n",
    "r = np.corrcoef(x)\n",
    "# print(r)\n",
    "    "
   ]
  },
  {
   "cell_type": "code",
   "execution_count": null,
   "metadata": {},
   "outputs": [],
   "source": [
    "import seaborn as sns\n",
    "sns.heatmap(data = r,#数据\n",
    "            cmap = 'hot',#填充色\n",
    "            #linewidths = 10,#宽度\n",
    "            #annot = True,#显示数值\n",
    "            fmt = '.1e' ,#科学计数法显示\n",
    "            xticklabels = Pistachio_columns,\n",
    "            yticklabels = Pistachio_columns\n",
    "            )\n",
    "plt.show()"
   ]
  },
  {
   "cell_type": "markdown",
   "metadata": {},
   "source": [
    "上图即为29个特征之间的皮尔逊相关系数，可以明显看出与Class相关的几个特征，将特征名称与上面的数据分布图做对比，结果显示，上图数据区间具有明显差异的几个特征和与Class相关度高的特征高度重合，可以将这几个特征作为重点"
   ]
  },
  {
   "cell_type": "code",
   "execution_count": null,
   "metadata": {},
   "outputs": [],
   "source": [
    "#图片拼接\n",
    "import PIL.Image as Image\n",
    "import os\n",
    "\n",
    "IMAGES_PATH = r'./Pistachio_Dataset/picture/'  # 图片集地址\n",
    "IMAGES_FORMAT = ['.png', '.PNG']  # 图片格式\n",
    "IMAGE_SIZE = 1000  # 每张小图片的大小\n",
    "IMAGE_ROW = 6  # 图片间隔，也就是合并成一张图后，一共有几行\n",
    "IMAGE_COLUMN = 5  # 图片间隔，也就是合并成一张图后，一共有几列\n",
    "IMAGE_SAVE_PATH = r'./Pistachio_Dataset/total.png'  # 图片转换后的地址\n",
    "\n",
    "# 获取图片集地址下的所有图片名称\n",
    "image_names = [name for name in os.listdir(IMAGES_PATH) for item in IMAGES_FORMAT if os.path.splitext(name)[1] == item]\n",
    "\n",
    "# 简单的对于参数的设定和实际图片集的大小进行数量判断\n",
    "# if len(image_names) != IMAGE_ROW * IMAGE_COLUMN:\n",
    "#     raise ValueError(\"合成图片的参数和要求的数量不能匹配！\")\n",
    "\n",
    "\n",
    "# 定义图像拼接函数\n",
    "def image_compose():\n",
    "    to_image = Image.new('RGB', (IMAGE_COLUMN * IMAGE_SIZE, IMAGE_ROW * IMAGE_SIZE))  # 创建一个新图\n",
    "    # 循环遍历，把每张图片按顺序粘贴到对应位置上\n",
    "    for y in range(1, IMAGE_ROW + 1):\n",
    "        for x in range(1, IMAGE_COLUMN + 1):\n",
    "            try:\n",
    "                from_image = Image.open(IMAGES_PATH + image_names[IMAGE_COLUMN * (y - 1) + x - 1]).resize((IMAGE_SIZE, IMAGE_SIZE), Image.ANTIALIAS)\n",
    "            except BaseException:\n",
    "                continue\n",
    "                \n",
    "            to_image.paste(from_image, ((x - 1) * IMAGE_SIZE, (y - 1) * IMAGE_SIZE))\n",
    "    return to_image.save(IMAGE_SAVE_PATH)  # 保存新图\n",
    "\n",
    "\n",
    "image_compose()  # 调用函数    "
   ]
  }
 ],
 "metadata": {
  "kernelspec": {
   "display_name": "Python 3.8.1 64-bit",
   "language": "python",
   "name": "python3"
  },
  "language_info": {
   "codemirror_mode": {
    "name": "ipython",
    "version": 3
   },
   "file_extension": ".py",
   "mimetype": "text/x-python",
   "name": "python",
   "nbconvert_exporter": "python",
   "pygments_lexer": "ipython3",
   "version": "3.8.1"
  },
  "orig_nbformat": 4,
  "vscode": {
   "interpreter": {
    "hash": "33d73dfb9d58d1e4c0ed15f266f7c1fd1b5e79268076ebae9c660cb33abbd60e"
   }
  }
 },
 "nbformat": 4,
 "nbformat_minor": 2
}
