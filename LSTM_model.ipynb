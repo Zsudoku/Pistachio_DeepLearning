{
 "cells": [
  {
   "cell_type": "code",
   "execution_count": null,
   "metadata": {},
   "outputs": [],
   "source": [
    "import matplotlib.pyplot as plt\n",
    "# coding=utf-8\n",
    "# get_ipython().run_line_magic('matplotlib', 'inline')\n",
    "import pandas as pd\n",
    "import numpy as np\n",
    "from keras.layers.core import Flatten\n",
    "\n",
    "\n",
    "from keras.preprocessing.sequence import pad_sequences\n",
    "from keras.models import Sequential\n",
    "from keras.layers import Dense, Embedding, SpatialDropout1D\n",
    "from sklearn.model_selection import train_test_split\n",
    "from keras.callbacks import EarlyStopping\n",
    "from tensorflow.keras.callbacks import ModelCheckpoint\n",
    "from tensorflow.keras.layers import Dropout,LSTM,BatchNormalization\n",
    "from tensorflow.keras.optimizers import SGD\n",
    "from sklearn.utils import shuffle\n",
    "from sklearn.metrics import roc_auc_score\n",
    "import re"
   ]
  },
  {
   "cell_type": "code",
   "execution_count": null,
   "metadata": {},
   "outputs": [],
   "source": [
    "dataset = pd.read_csv('./Pistachio_Dataset/Pistachio_28_Features_Dataset/Pistachio_28_Features_Dataset.csv') \n",
    "cols = ['Class','Area', 'Perimeter', 'Major_Axis', 'Minor_Axis', 'Eccentricity',\n",
    "        'Eqdiasq', 'Solidity', 'Convex_Area', 'Extent', 'Aspect_Ratio',\n",
    "        'Roundness', 'Compactness', 'Shapefactor_1', 'Shapefactor_2',\n",
    "        'Shapefactor_3', 'Shapefactor_4', 'Mean_RR', 'Mean_RG', 'Mean_RB',\n",
    "        'StdDev_RR', 'StdDev_RG', 'StdDev_RB', 'Skew_RR', 'Skew_RG', 'Skew_RB',\n",
    "        'Kurtosis_RR', 'Kurtosis_RG', 'Kurtosis_RB']\n",
    "# dataset = dataset.loc[:,cols]\n",
    "# d = {'Class': dataset['Class'].value_counts().index, 'count': dataset['Class'].value_counts()}\n",
    "# df_Class = pd.DataFrame(data=d).reset_index(drop=True)\n",
    "# df_Class\n",
    "dataset.sample(10)\n",
    "dataset = shuffle(dataset)\n",
    "Lisclass = dataset['Class'].values\n",
    "LisClassNp = []\n",
    "for i in range(len(Lisclass)):\n",
    "    if (Lisclass[i] == 'Kirmizi_Pistachio'):\n",
    "        LisClassNp.append([0,1])\n",
    "    else:\n",
    "        LisClassNp.append([1,0])\n",
    "Y = np.array(LisClassNp)\n",
    "dataset = dataset.drop(columns='Class')\n",
    "X = dataset.values\n",
    "from sklearn.preprocessing import MinMaxScaler\n",
    "scaler = MinMaxScaler(feature_range=(0, 1))\n",
    "X = scaler.fit_transform(X)\n",
    "#拆分训练集和测试集\n",
    "X_train, X_test, Y_train, Y_test = train_test_split(X, Y, test_size=0.10, random_state=40)\n",
    "X_train = X_train.reshape(X_train.shape[0],1,X_train.shape[1])\n",
    "X_test = X_test.reshape(X_test.shape[0],1,X_test.shape[1])"
   ]
  },
  {
   "cell_type": "code",
   "execution_count": null,
   "metadata": {},
   "outputs": [],
   "source": [
    "# d = {'Class': dataset['Class'].value_counts().index, 'count': dataset['Class'].value_counts()}\n",
    "# df_Class = pd.DataFrame(data=d).reset_index(drop=True)\n",
    "# df_Class\n"
   ]
  },
  {
   "cell_type": "code",
   "execution_count": null,
   "metadata": {},
   "outputs": [],
   "source": [
    "#X.dtype = 'int64'\n",
    "# Y.dtype = 'int64'\n",
    "# X = X.astype(int)\n",
    "\n",
    "# X = X.astype(int)"
   ]
  },
  {
   "cell_type": "code",
   "execution_count": null,
   "metadata": {},
   "outputs": [],
   "source": [
    "print(X.shape)\n",
    "print(Y.shape)"
   ]
  },
  {
   "cell_type": "code",
   "execution_count": null,
   "metadata": {},
   "outputs": [],
   "source": [
    "import os,sys\n",
    "import shutil\n",
    "\n",
    "shutil.rmtree('models')  \n",
    "os.mkdir('models')"
   ]
  },
  {
   "cell_type": "code",
   "execution_count": null,
   "metadata": {},
   "outputs": [],
   "source": [
    "# import tensorflow as tf\n",
    "# def metric_precision(y_true,y_pred):\n",
    "#     TP=tf.reduce_sum(y_true/tf.round(y_pred))\n",
    "#     TN=tf.reduce_sum((1-y_true)(1-tf.round(y_pred)))\n",
    "#     FP=tf.reduce_sum((1-y_true)tf.round(y_pred))\n",
    "#     FN=tf.reduce_sum(y_true(1-tf.round(y_pred)))\n",
    "#     precision=TP/(TP+FP)\n",
    "#     return precision"
   ]
  },
  {
   "cell_type": "code",
   "execution_count": null,
   "metadata": {},
   "outputs": [],
   "source": [
    "def accsorce(Y_test,yhat):\n",
    "    sorce = 0\n",
    "    for i in range(len(Y_test)):\n",
    "        sorce += roc_auc_score(Y_test[i], yhat[i])\n",
    "\n",
    "    return sorce/len(Y_test)"
   ]
  },
  {
   "cell_type": "code",
   "execution_count": null,
   "metadata": {},
   "outputs": [],
   "source": [
    "\n",
    "#定义模型\n",
    "import random\n",
    "sgd = SGD(learning_rate=0.1, decay=1e-6, momentum=0.9, nesterov=True)\n",
    "\n",
    "lstm_layers = [1,2,3,4,5]\n",
    "dense_layers = [1,2,3]\n",
    "units = [16,32,64,128]\n",
    "dropout = [0.05,0.1,0.15,0.25]\n",
    "Batch_size = [32,64,128]\n",
    "optimizer = ['adam',sgd]\n",
    "for the_batch_size in Batch_size:\n",
    "    for the_dropout in dropout:\n",
    "        for the_optimizer in optimizer:\n",
    "            for the_dense_layers in dense_layers:\n",
    "                for the_lstm_layers in lstm_layers:\n",
    "                    for the_units in units:\n",
    "                        X_train, X_test, Y_train, Y_test = train_test_split(X, Y, test_size=0.1, random_state=random.randint(10,100))\n",
    "                        X_train = X_train.reshape(X_train.shape[0],1,X_train.shape[1])\n",
    "                        X_test = X_test.reshape(X_test.shape[0],1,X_test.shape[1])\n",
    "                        model = Sequential()\n",
    "                        # model.build(input_shape=(277,277,2))\n",
    "                        #print(model.summary())\n",
    "                        #model.add(SpatialDropout1D(0.2))\n",
    "                        model.add(LSTM(the_units ,input_shape=(X_train.shape[1],X_train.shape[2]),return_sequences = True))\n",
    "                        model.add(Dropout(the_dropout))\n",
    "                        model.add(BatchNormalization())\n",
    "                        # #第二层\n",
    "                        for i in range(the_lstm_layers):\n",
    "                            model.add(LSTM(the_units,return_sequences=True))\n",
    "                            model.add(Dropout(the_dropout))\n",
    "                            model.add(BatchNormalization())\n",
    "\n",
    "                        model.add(LSTM(the_units))\n",
    "                        model.add(Dropout(the_dropout))\n",
    "                        model.add(BatchNormalization())\n",
    "                        #全连接层\n",
    "                        for i in range(the_dense_layers):\n",
    "                            model.add(Dense(the_dense_layers,activation='relu'))\n",
    "                            model.add(Dropout(the_dropout))\n",
    "                            \n",
    "                        # model.add(Flatten()) \n",
    "                        \n",
    "                        \n",
    "                        model.add(Dense(2, activation='softmax'))\n",
    "                        \n",
    "                        #sgd = SGD(learning_rate=0.01, momentum=0.9 , decay=0.1, nesterov=False)\n",
    "                        \n",
    "                        # learning_rate = 0.1\n",
    "                        # decay = 0.001\n",
    "                        # epochs = 50\n",
    "                        # batch_size = 64\n",
    "                        \n",
    "                        \n",
    "                        model.compile(  loss='binary_crossentropy',#categorical_crossentropy', binary_crossentropy\n",
    "                                        optimizer=the_optimizer, metrics=['categorical_accuracy'])\n",
    "                        print(model.summary())\n",
    "\n",
    "                        epochs = 100\n",
    "                        batch_size = the_batch_size\n",
    "                        filepath = './models/{categorical_accuracy:.4f}_{epoch:02d}_'+f'dropout_{the_dropout}pbatch_size_{the_batch_size}optimizer_{the_optimizer}dense_layers_{the_dense_layers}_lstm_layers_{the_lstm_layers}_unit_{the_units}.h5'\n",
    "                        checkpoint = ModelCheckpoint(\n",
    "                                            filepath=filepath,\n",
    "                                            save_weights_only=False,\n",
    "                                            monitor='categorical_accuracy',\n",
    "                                            mode='max',\n",
    "                                            save_best_only=True)\n",
    "                        history = model.fit(X_train, Y_train, epochs=epochs, batch_size=batch_size, validation_split=0.1,\n",
    "                                            #callbacks=[EarlyStopping(monitor='val_loss', patience=3, min_delta=0.0001)])\n",
    "                                            callbacks=checkpoint)"
   ]
  },
  {
   "cell_type": "code",
   "execution_count": null,
   "metadata": {},
   "outputs": [],
   "source": [
    "#model.save('mymodel.h5')"
   ]
  },
  {
   "cell_type": "code",
   "execution_count": null,
   "metadata": {},
   "outputs": [],
   "source": [
    "from tensorflow.keras.models import load_model\n",
    "best_model = load_model('./models/0.9373_68_dropout_0.05pbatch_size_32optimizer_adamdense_layers_3_lstm_layers_2_unit_64.h5')"
   ]
  },
  {
   "cell_type": "code",
   "execution_count": null,
   "metadata": {},
   "outputs": [],
   "source": [
    "dataset = pd.read_csv('./Pistachio_Dataset/Pistachio_28_Features_Dataset/Pistachio_28_Features_Dataset.csv') \n",
    "cols = ['Class','Area', 'Perimeter', 'Major_Axis', 'Minor_Axis', 'Eccentricity',\n",
    "        'Eqdiasq', 'Solidity', 'Convex_Area', 'Extent', 'Aspect_Ratio',\n",
    "        'Roundness', 'Compactness', 'Shapefactor_1', 'Shapefactor_2',\n",
    "        'Shapefactor_3', 'Shapefactor_4', 'Mean_RR', 'Mean_RG', 'Mean_RB',\n",
    "        'StdDev_RR', 'StdDev_RG', 'StdDev_RB', 'Skew_RR', 'Skew_RG', 'Skew_RB',\n",
    "        'Kurtosis_RR', 'Kurtosis_RG', 'Kurtosis_RB']\n",
    "# dataset = dataset.loc[:,cols]\n",
    "dataset.sample(10)\n",
    "dataset = shuffle(dataset)\n",
    "Lisclass = dataset['Class'].values\n",
    "LisClassNp = []\n",
    "for i in range(len(Lisclass)):\n",
    "    if (Lisclass[i] == 'Kirmizi_Pistachio'):\n",
    "        LisClassNp.append([0,1])\n",
    "    else:\n",
    "        LisClassNp.append([1,0])\n",
    "Y = np.array(LisClassNp)\n",
    "dataset = dataset.drop(columns='Class')\n",
    "X = dataset.values\n",
    "from sklearn.preprocessing import MinMaxScaler\n",
    "scaler = MinMaxScaler(feature_range=(0, 1))\n",
    "X = scaler.fit_transform(X)\n",
    "#拆分训练集和测试集\n",
    "# X_train, X_test, Y_train, Y_test = train_test_split(X, Y, test_size=0.10, random_state=random.randint(10,100))\n",
    "# X_train = X_train.reshape(X_train.shape[0],1,X_train.shape[1])\n",
    "# X_test = X_test.reshape(X_test.shape[0],1,X_test.shape[1])"
   ]
  },
  {
   "cell_type": "code",
   "execution_count": null,
   "metadata": {},
   "outputs": [],
   "source": [
    "#进行预测 make a prediction\n",
    "X_train, X_test, Y_train, Y_test = train_test_split(X, Y, test_size=0.10, random_state=random.randint(10,100))\n",
    "X_train = X_train.reshape(X_train.shape[0],1,X_train.shape[1])\n",
    "X_test = X_test.reshape(X_test.shape[0],1,X_test.shape[1])\n",
    "# print ('train_x.shape, train_y.shape, test_x.shape, test_y.shape')\n",
    "# print(train_X.shape, train_y.shape, test_X.shape, test_y.shape)\n",
    "yhat = best_model.predict(X_test)\n",
    "# print(yhat.shape)\n",
    "print(yhat)\n",
    "print(Y_test)"
   ]
  },
  {
   "cell_type": "code",
   "execution_count": null,
   "metadata": {},
   "outputs": [],
   "source": [
    "print(Y_test.shape)\n",
    "print(yhat.shape)\n",
    "# Y_test = Y_test.reshape(430)\n",
    "# yhat = yhat.reshape(430)\n",
    "# Y_test = list(Y_test)\n",
    "# yhat = list(yhat)"
   ]
  },
  {
   "cell_type": "code",
   "execution_count": null,
   "metadata": {},
   "outputs": [],
   "source": [
    "# print(yhat)"
   ]
  },
  {
   "cell_type": "code",
   "execution_count": null,
   "metadata": {},
   "outputs": [],
   "source": [
    "\n",
    "\n",
    "\n",
    "\n",
    "sorce = 0\n",
    "for i in range(len(Y_test)):\n",
    "    sorce += roc_auc_score(Y_test[i], yhat[i])\n",
    "\n",
    "print('ACC:',sorce/len(Y_test))\n"
   ]
  }
 ],
 "metadata": {
  "kernelspec": {
   "display_name": "Python 3.8.1 64-bit",
   "language": "python",
   "name": "python3"
  },
  "language_info": {
   "codemirror_mode": {
    "name": "ipython",
    "version": 3
   },
   "file_extension": ".py",
   "mimetype": "text/x-python",
   "name": "python",
   "nbconvert_exporter": "python",
   "pygments_lexer": "ipython3",
   "version": "3.8.1"
  },
  "orig_nbformat": 4,
  "vscode": {
   "interpreter": {
    "hash": "33d73dfb9d58d1e4c0ed15f266f7c1fd1b5e79268076ebae9c660cb33abbd60e"
   }
  }
 },
 "nbformat": 4,
 "nbformat_minor": 2
}
