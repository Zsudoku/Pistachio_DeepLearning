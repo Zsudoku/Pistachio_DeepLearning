{
 "cells": [
  {
   "cell_type": "code",
   "execution_count": null,
   "metadata": {},
   "outputs": [],
   "source": [
    "import numpy as np\n",
    "import pandas as pd\n",
    "from pandas import read_csv\n",
    "from pandas import DataFrame\n",
    "import matplotlib.pyplot as plt"
   ]
  },
  {
   "cell_type": "code",
   "execution_count": null,
   "metadata": {},
   "outputs": [],
   "source": [
    "myList = []\n",
    "dirsources = {}\n",
    "\n",
    "with open('restult.txt') as file:\n",
    "    \n",
    "    for line in file:\n",
    "        a = line.strip()\n",
    "        a = a.split(',')\n",
    "        dirsources[float(a[0])] = a[1]\n",
    "#print(dirsources)"
   ]
  },
  {
   "cell_type": "code",
   "execution_count": 11,
   "metadata": {},
   "outputs": [
    {
     "name": "stdout",
     "output_type": "stream",
     "text": [
      "[0.5762, 0.5841, 0.5946, 0.858, 0.8596, 0.8607, 0.8612, 0.8617, 0.8623, 0.8628, 0.8633, 0.8638, 0.8649, 0.8654, 0.8659, 0.8665, 0.867, 0.8675, 0.868, 0.8686, 0.8691, 0.8696, 0.8701, 0.8707, 0.8712, 0.8717, 0.8722, 0.8728, 0.8733, 0.8738, 0.8743, 0.8749, 0.8754, 0.8759, 0.8764, 0.877, 0.8775, 0.878, 0.8785, 0.8791, 0.8796, 0.8801, 0.8807, 0.8812, 0.8817, 0.8822, 0.8828, 0.8833, 0.8838, 0.8843, 0.8849, 0.8854, 0.8859, 0.8864, 0.887, 0.8875, 0.888, 0.8885, 0.8891, 0.8896, 0.8901, 0.8906, 0.8912, 0.8917, 0.8922, 0.8927, 0.8933, 0.8938, 0.8943, 0.8948, 0.8954, 0.8959, 0.8964, 0.897, 0.8975, 0.898, 0.8985, 0.8991, 0.8996, 0.9001, 0.9006, 0.9012, 0.9017, 0.9022, 0.9027, 0.9033, 0.9038, 0.9043, 0.9048, 0.9054, 0.9059, 0.9064, 0.9069, 0.9075, 0.908, 0.9085, 0.909, 0.9096, 0.9101, 0.9106, 0.9111, 0.9117, 0.9122, 0.9127, 0.9132, 0.9138, 0.9143, 0.9148, 0.9154, 0.9159, 0.9164, 0.9169, 0.9175, 0.918, 0.9185, 0.919, 0.9196, 0.9201, 0.9206, 0.9211, 0.9217, 0.9222, 0.9238, 0.9248, 0.9259, 0.9264, 0.9269, 0.928, 0.9285, 0.9295, 0.9322]\n",
      "[(0.5762, 'batch_size_128_optimizer_adam_dense_layers_3_lstm_layers_6_unit_256'), (0.5841, 'batch_size_32_optimizer_adam_dense_layers_1_lstm_layers_3_unit_512'), (0.5946, 'batch_size_128_optimizer_sgd_dense_layers_1_lstm_layers_1_unit_64'), (0.858, 'batch_size_32_optimizer_adam_dense_layers_3_lstm_layers_7_unit_256'), (0.8596, 'batch_size_32_optimizer_adam_dense_layers_3_lstm_layers_7_unit_512'), (0.8607, 'batch_size_32_optimizer_adam_dense_layers_1_lstm_layers_5_unit_512'), (0.8612, 'batch_size_32_optimizer_adam_dense_layers_4_lstm_layers_6_unit_512'), (0.8617, 'batch_size_32_optimizer_adam_dense_layers_4_lstm_layers_5_unit_256'), (0.8623, 'batch_size_32_optimizer_adam_dense_layers_3_lstm_layers_5_unit_512'), (0.8628, 'batch_size_32_optimizer_adam_dense_layers_4_lstm_layers_3_unit_512'), (0.8633, 'batch_size_64_optimizer_adam_dense_layers_4_lstm_layers_6_unit_512'), (0.8638, 'batch_size_32_optimizer_adam_dense_layers_5_lstm_layers_7_unit_512'), (0.8649, 'batch_size_32_optimizer_adam_dense_layers_1_lstm_layers_7_unit_256'), (0.8654, 'batch_size_64_optimizer_adam_dense_layers_4_lstm_layers_7_unit_512'), (0.8659, 'batch_size_32_optimizer_adam_dense_layers_5_lstm_layers_4_unit_512'), (0.8665, 'batch_size_64_optimizer_adam_dense_layers_3_lstm_layers_6_unit_512'), (0.867, 'batch_size_32_optimizer_adam_dense_layers_4_lstm_layers_7_unit_512'), (0.8675, 'batch_size_32_optimizer_adam_dense_layers_4_lstm_layers_6_unit_256'), (0.868, 'batch_size_64_optimizer_adam_dense_layers_5_lstm_layers_7_unit_512'), (0.8686, 'batch_size_64_optimizer_adam_dense_layers_3_lstm_layers_5_unit_512'), (0.8691, 'batch_size_32_optimizer_adam_dense_layers_2_lstm_layers_6_unit_128'), (0.8696, 'batch_size_32_optimizer_adam_dense_layers_3_lstm_layers_4_unit_512'), (0.8701, 'batch_size_64_optimizer_adam_dense_layers_2_lstm_layers_6_unit_512'), (0.8707, 'batch_size_32_optimizer_adam_dense_layers_4_lstm_layers_4_unit_256'), (0.8712, 'batch_size_64_optimizer_adam_dense_layers_3_lstm_layers_4_unit_512'), (0.8717, 'batch_size_64_optimizer_adam_dense_layers_4_lstm_layers_5_unit_512'), (0.8722, 'batch_size_128_optimizer_adam_dense_layers_5_lstm_layers_6_unit_512'), (0.8728, 'batch_size_128_optimizer_sgd_dense_layers_1_lstm_layers_1_unit_512'), (0.8733, 'batch_size_64_optimizer_sgd_dense_layers_5_lstm_layers_1_unit_512'), (0.8738, 'batch_size_64_optimizer_adam_dense_layers_2_lstm_layers_5_unit_512'), (0.8743, 'batch_size_128_optimizer_adam_dense_layers_5_lstm_layers_5_unit_512'), (0.8749, 'batch_size_64_optimizer_adam_dense_layers_4_lstm_layers_5_unit_256'), (0.8754, 'batch_size_64_optimizer_adam_dense_layers_5_lstm_layers_6_unit_512'), (0.8759, 'batch_size_128_optimizer_sgd_dense_layers_2_lstm_layers_1_unit_512'), (0.8764, 'batch_size_128_optimizer_sgd_dense_layers_5_lstm_layers_1_unit_128'), (0.877, 'batch_size_128_optimizer_sgd_dense_layers_5_lstm_layers_1_unit_256'), (0.8775, 'batch_size_128_optimizer_adam_dense_layers_3_lstm_layers_6_unit_512'), (0.878, 'batch_size_128_optimizer_sgd_dense_layers_1_lstm_layers_2_unit_64'), (0.8785, 'batch_size_128_optimizer_adam_dense_layers_3_lstm_layers_7_unit_512'), (0.8791, 'batch_size_128_optimizer_adam_dense_layers_2_lstm_layers_6_unit_512'), (0.8796, 'batch_size_128_optimizer_adam_dense_layers_5_lstm_layers_7_unit_256'), (0.8801, 'batch_size_128_optimizer_sgd_dense_layers_5_lstm_layers_1_unit_64'), (0.8807, 'batch_size_128_optimizer_sgd_dense_layers_5_lstm_layers_2_unit_128'), (0.8812, 'batch_size_64_optimizer_adam_dense_layers_5_lstm_layers_4_unit_512'), (0.8817, 'batch_size_128_optimizer_adam_dense_layers_4_lstm_layers_7_unit_256'), (0.8822, 'batch_size_128_optimizer_adam_dense_layers_5_lstm_layers_7_unit_512'), (0.8828, 'batch_size_128_optimizer_adam_dense_layers_4_lstm_layers_7_unit_128'), (0.8833, 'batch_size_128_optimizer_adam_dense_layers_4_lstm_layers_4_unit_512'), (0.8838, 'batch_size_128_optimizer_adam_dense_layers_1_lstm_layers_5_unit_512'), (0.8843, 'batch_size_128_optimizer_adam_dense_layers_5_lstm_layers_6_unit_256'), (0.8849, 'batch_size_128_optimizer_adam_dense_layers_2_lstm_layers_4_unit_512'), (0.8854, 'batch_size_64_optimizer_adam_dense_layers_2_lstm_layers_3_unit_512'), (0.8859, 'batch_size_64_optimizer_adam_dense_layers_3_lstm_layers_7_unit_64'), (0.8864, 'batch_size_128_optimizer_adam_dense_layers_1_lstm_layers_7_unit_512'), (0.887, 'batch_size_128_optimizer_adam_dense_layers_4_lstm_layers_6_unit_512'), (0.8875, 'batch_size_128_optimizer_sgd_dense_layers_3_lstm_layers_5_unit_512'), (0.888, 'batch_size_128_optimizer_sgd_dense_layers_5_lstm_layers_3_unit_512'), (0.8885, 'batch_size_128_optimizer_sgd_dense_layers_2_lstm_layers_3_unit_64'), (0.8891, 'batch_size_128_optimizer_sgd_dense_layers_4_lstm_layers_3_unit_64'), (0.8896, 'batch_size_128_optimizer_adam_dense_layers_4_lstm_layers_5_unit_128'), (0.8901, 'batch_size_128_optimizer_sgd_dense_layers_4_lstm_layers_2_unit_256'), (0.8906, 'batch_size_128_optimizer_adam_dense_layers_5_lstm_layers_6_unit_128'), (0.8912, 'batch_size_128_optimizer_adam_dense_layers_3_lstm_layers_5_unit_512'), (0.8917, 'batch_size_128_optimizer_adam_dense_layers_2_lstm_layers_7_unit_256'), (0.8922, 'batch_size_128_optimizer_adam_dense_layers_3_lstm_layers_5_unit_256'), (0.8927, 'batch_size_128_optimizer_adam_dense_layers_5_lstm_layers_5_unit_256'), (0.8933, 'batch_size_128_optimizer_sgd_dense_layers_3_lstm_layers_3_unit_128'), (0.8938, 'batch_size_128_optimizer_adam_dense_layers_2_lstm_layers_7_unit_512'), (0.8943, 'batch_size_128_optimizer_adam_dense_layers_3_lstm_layers_7_unit_256'), (0.8948, 'batch_size_128_optimizer_adam_dense_layers_2_lstm_layers_5_unit_256'), (0.8954, 'batch_size_128_optimizer_adam_dense_layers_5_lstm_layers_2_unit_512'), (0.8959, 'batch_size_128_optimizer_adam_dense_layers_5_lstm_layers_1_unit_512'), (0.8964, 'batch_size_128_optimizer_adam_dense_layers_5_lstm_layers_4_unit_256'), (0.897, 'batch_size_128_optimizer_sgd_dense_layers_4_lstm_layers_5_unit_64'), (0.8975, 'batch_size_128_optimizer_adam_dense_layers_1_lstm_layers_4_unit_512'), (0.898, 'batch_size_128_optimizer_adam_dense_layers_3_lstm_layers_7_unit_128'), (0.8985, 'batch_size_128_optimizer_adam_dense_layers_4_lstm_layers_5_unit_512'), (0.8991, 'batch_size_128_optimizer_adam_dense_layers_4_lstm_layers_2_unit_512'), (0.8996, 'batch_size_128_optimizer_sgd_dense_layers_2_lstm_layers_4_unit_256'), (0.9001, 'batch_size_128_optimizer_sgd_dense_layers_5_lstm_layers_6_unit_128'), (0.9006, 'batch_size_128_optimizer_adam_dense_layers_4_lstm_layers_5_unit_64'), (0.9012, 'batch_size_64_optimizer_adam_dense_layers_3_lstm_layers_3_unit_64'), (0.9017, 'batch_size_128_optimizer_adam_dense_layers_4_lstm_layers_7_unit_64'), (0.9022, 'batch_size_128_optimizer_adam_dense_layers_1_lstm_layers_1_unit_64'), (0.9027, 'batch_size_128_optimizer_adam_dense_layers_4_lstm_layers_6_unit_128'), (0.9033, 'batch_size_128_optimizer_adam_dense_layers_2_lstm_layers_6_unit_128'), (0.9038, 'batch_size_128_optimizer_adam_dense_layers_5_lstm_layers_4_unit_512'), (0.9043, 'batch_size_128_optimizer_adam_dense_layers_3_lstm_layers_4_unit_512'), (0.9048, 'batch_size_128_optimizer_adam_dense_layers_4_lstm_layers_3_unit_256'), (0.9054, 'batch_size_128_optimizer_adam_dense_layers_1_lstm_layers_6_unit_128'), (0.9059, 'batch_size_128_optimizer_adam_dense_layers_4_lstm_layers_6_unit_256'), (0.9064, 'batch_size_128_optimizer_adam_dense_layers_4_lstm_layers_4_unit_256'), (0.9069, 'batch_size_128_optimizer_sgd_dense_layers_4_lstm_layers_7_unit_128'), (0.9075, 'batch_size_128_optimizer_adam_dense_layers_3_lstm_layers_6_unit_128'), (0.908, 'batch_size_128_optimizer_adam_dense_layers_5_lstm_layers_7_unit_128'), (0.9085, 'batch_size_128_optimizer_adam_dense_layers_1_lstm_layers_7_unit_64'), (0.909, 'batch_size_128_optimizer_adam_dense_layers_5_lstm_layers_3_unit_256'), (0.9096, 'batch_size_128_optimizer_adam_dense_layers_5_lstm_layers_1_unit_64'), (0.9101, 'batch_size_128_optimizer_adam_dense_layers_4_lstm_layers_5_unit_256'), (0.9106, 'batch_size_128_optimizer_adam_dense_layers_5_lstm_layers_4_unit_128'), (0.9111, 'batch_size_128_optimizer_adam_dense_layers_5_lstm_layers_6_unit_64'), (0.9117, 'batch_size_128_optimizer_adam_dense_layers_3_lstm_layers_5_unit_64'), (0.9122, 'batch_size_128_optimizer_adam_dense_layers_4_lstm_layers_2_unit_64'), (0.9127, 'batch_size_128_optimizer_adam_dense_layers_5_lstm_layers_4_unit_64'), (0.9132, 'batch_size_128_optimizer_adam_dense_layers_4_lstm_layers_4_unit_128'), (0.9138, 'batch_size_128_optimizer_adam_dense_layers_5_lstm_layers_3_unit_512'), (0.9143, 'batch_size_128_optimizer_adam_dense_layers_3_lstm_layers_2_unit_64'), (0.9148, 'batch_size_128_optimizer_adam_dense_layers_5_lstm_layers_5_unit_64'), (0.9154, 'batch_size_128_optimizer_adam_dense_layers_5_lstm_layers_1_unit_128'), (0.9159, 'batch_size_128_optimizer_adam_dense_layers_3_lstm_layers_4_unit_256'), (0.9164, 'batch_size_128_optimizer_adam_dense_layers_5_lstm_layers_7_unit_64'), (0.9169, 'batch_size_128_optimizer_adam_dense_layers_5_lstm_layers_1_unit_256'), (0.9175, 'batch_size_128_optimizer_adam_dense_layers_2_lstm_layers_3_unit_128'), (0.918, 'batch_size_128_optimizer_adam_dense_layers_3_lstm_layers_4_unit_128'), (0.9185, 'batch_size_128_optimizer_adam_dense_layers_5_lstm_layers_5_unit_128'), (0.919, 'batch_size_128_optimizer_adam_dense_layers_1_lstm_layers_1_unit_128'), (0.9196, 'batch_size_128_optimizer_adam_dense_layers_4_lstm_layers_4_unit_64'), (0.9201, 'batch_size_128_optimizer_adam_dense_layers_2_lstm_layers_4_unit_128'), (0.9206, 'batch_size_128_optimizer_adam_dense_layers_4_lstm_layers_2_unit_128'), (0.9211, 'batch_size_128_optimizer_adam_dense_layers_3_lstm_layers_4_unit_64'), (0.9217, 'batch_size_128_optimizer_adam_dense_layers_4_lstm_layers_3_unit_128'), (0.9222, 'batch_size_128_optimizer_adam_dense_layers_4_lstm_layers_1_unit_128'), (0.9238, 'batch_size_128_optimizer_adam_dense_layers_1_lstm_layers_4_unit_128'), (0.9248, 'batch_size_128_optimizer_adam_dense_layers_1_lstm_layers_3_unit_128'), (0.9259, 'batch_size_128_optimizer_adam_dense_layers_1_lstm_layers_3_unit_64'), (0.9264, 'batch_size_128_optimizer_adam_dense_layers_3_lstm_layers_2_unit_256'), (0.9269, 'batch_size_128_optimizer_adam_dense_layers_4_lstm_layers_2_unit_256'), (0.928, 'batch_size_128_optimizer_adam_dense_layers_5_lstm_layers_3_unit_128'), (0.9285, 'batch_size_128_optimizer_adam_dense_layers_1_lstm_layers_2_unit_128'), (0.9295, 'batch_size_128_optimizer_adam_dense_layers_4_lstm_layers_3_unit_64'), (0.9322, 'batch_size_128_optimizer_adam_dense_layers_5_lstm_layers_2_unit_256')]\n"
     ]
    }
   ],
   "source": [
    "#对字典按键（key）进行排序（默认由小到大）\n",
    "test_data_0=sorted(dirsources.keys()) \n",
    "#输出结果\n",
    "print(test_data_0) \n",
    "#[3, 6, 7, 8, 10] \n",
    "test_data_1=sorted(dirsources.items(),key=lambda x:x[0]) \n",
    "#输出结果\n",
    "print(test_data_1) \n",
    "#[(3, 11), (6, 9), (7, 6), (8, 2), (10, 5)]"
   ]
  },
  {
   "cell_type": "code",
   "execution_count": null,
   "metadata": {},
   "outputs": [],
   "source": []
  }
 ],
 "metadata": {
  "kernelspec": {
   "display_name": "Python 3.8.1 64-bit",
   "language": "python",
   "name": "python3"
  },
  "language_info": {
   "codemirror_mode": {
    "name": "ipython",
    "version": 3
   },
   "file_extension": ".py",
   "mimetype": "text/x-python",
   "name": "python",
   "nbconvert_exporter": "python",
   "pygments_lexer": "ipython3",
   "version": "3.8.1"
  },
  "orig_nbformat": 4,
  "vscode": {
   "interpreter": {
    "hash": "33d73dfb9d58d1e4c0ed15f266f7c1fd1b5e79268076ebae9c660cb33abbd60e"
   }
  }
 },
 "nbformat": 4,
 "nbformat_minor": 2
}
